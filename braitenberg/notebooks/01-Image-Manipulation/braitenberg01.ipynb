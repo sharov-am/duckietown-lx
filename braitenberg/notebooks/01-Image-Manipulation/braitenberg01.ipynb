{
 "cells": [
  {
   "cell_type": "markdown",
   "metadata": {},
   "source": [
    "# Image manipulation\n",
    "\n",
    "This notebook introduces some simple image manipulation techniques.\n",
    "\n",
    "We will cover\n",
    "1. Loading and visualizing images\n",
    "2. Cropping images\n",
    "3. Modifying images\n",
    "\n",
    "This will prepare us to filter images for objects such as duckies."
   ]
  },
  {
   "cell_type": "markdown",
   "metadata": {},
   "source": [
    "First though, we need to do some setup work. This sets up autoreloading of code in external files and loads packages we will need later."
   ]
  },
  {
   "cell_type": "code",
   "execution_count": 1,
   "metadata": {},
   "outputs": [
    {
     "name": "stderr",
     "output_type": "stream",
     "text": [
      "DEBUG:commons:version: 6.2.4 *\n",
      "DEBUG:typing:version: 6.2.3\n",
      "DEBUG:geometry:PyGeometry-z6 version 2.1.4 path /usr/local/lib/python3.8/dist-packages\n"
     ]
    },
    {
     "name": "stdout",
     "output_type": "stream",
     "text": [
      "%pylab is deprecated, use %matplotlib inline and import the required libraries.\n",
      "Populating the interactive namespace from numpy and matplotlib\n"
     ]
    }
   ],
   "source": [
    "%load_ext autoreload\n",
    "%autoreload 2\n",
    "\n",
    "import numpy as np\n",
    "import matplotlib.pyplot as plt\n",
    "\n",
    "import duckietown_code_utils as dcu\n",
    "\n",
    "%matplotlib inline\n",
    "%pylab inline"
   ]
  },
  {
   "cell_type": "markdown",
   "metadata": {},
   "source": [
    "## Loading and visualizing images"
   ]
  },
  {
   "cell_type": "markdown",
   "metadata": {},
   "source": [
    "Here is a function that converts a JPEG image's bytes to a Numpy `nd.ndarray`."
   ]
  },
  {
   "cell_type": "code",
   "execution_count": 2,
   "metadata": {
    "scrolled": true
   },
   "outputs": [],
   "source": [
    "fn = '../../assets/samples/big-duck/big-duck-08.jpg'\n",
    "image1 = dcu.rgb_from_jpg_fn(fn)"
   ]
  },
  {
   "cell_type": "markdown",
   "metadata": {},
   "source": [
    "We can see the shape with the attribute \"shape\":\n"
   ]
  },
  {
   "cell_type": "code",
   "execution_count": 3,
   "metadata": {},
   "outputs": [
    {
     "data": {
      "text/plain": [
       "(480, 640, 3)"
      ]
     },
     "execution_count": 3,
     "metadata": {},
     "output_type": "execute_result"
    }
   ],
   "source": [
    "image1.shape"
   ]
  },
  {
   "cell_type": "markdown",
   "metadata": {},
   "source": [
    "Note that the convention is (height, width, depth). Here we have an image of height 480 and width 640. The depth represents R, G, B color channels.\n",
    "\n",
    "Using `dtype` we can check the datatype for the image. In this cases, it is `uint8` (from 0 to 255)"
   ]
  },
  {
   "cell_type": "code",
   "execution_count": null,
   "metadata": {},
   "outputs": [],
   "source": [
    "image1.dtype"
   ]
  },
  {
   "cell_type": "markdown",
   "metadata": {},
   "source": [
    "We can display the image using `imshow()`."
   ]
  },
  {
   "cell_type": "code",
   "execution_count": null,
   "metadata": {},
   "outputs": [],
   "source": [
    "plt.imshow(image1);"
   ]
  },
  {
   "cell_type": "markdown",
   "metadata": {},
   "source": [
    "## Cropping images"
   ]
  },
  {
   "cell_type": "markdown",
   "metadata": {},
   "source": [
    "You can manipulate the image by using multidimensional array notation.\n"
   ]
  },
  {
   "cell_type": "markdown",
   "metadata": {},
   "source": [
    "For example, we can obtain a smaller image by cropping it."
   ]
  },
  {
   "cell_type": "code",
   "execution_count": null,
   "metadata": {},
   "outputs": [],
   "source": [
    "image1_cropped = image1[100:300, 450:550, :]\n",
    "plt.imshow(image1_cropped);"
   ]
  },
  {
   "cell_type": "markdown",
   "metadata": {},
   "source": [
    "In the expression `image1[100:300, 450:550, :]` we selected a part of the image using slice notation. The notation `100:300` means taking the pixels from 100 to 300 in the first coordinate (vertical, starting from top); `450:550` means getting the pixels from 450 to 550 starting in the second coordinate (horizontal, starting from left).\n",
    "\n",
    "Try updating `image1_cropped` so that it only contains the duckie."
   ]
  },
  {
   "cell_type": "markdown",
   "metadata": {},
   "source": [
    "We can also look at each color channel in isolation."
   ]
  },
  {
   "cell_type": "code",
   "execution_count": null,
   "metadata": {},
   "outputs": [],
   "source": [
    "# Break out each color channel\n",
    "R = image1[:,:,0]\n",
    "G = image1[:,:,1]\n",
    "B = image1[:,:,2]"
   ]
  },
  {
   "cell_type": "code",
   "execution_count": null,
   "metadata": {},
   "outputs": [],
   "source": [
    "# Visualize with color mappings\n",
    "f, axarr = plt.subplots(1, 3)\n",
    "axarr[0].imshow(R, cmap=\"Reds\")\n",
    "axarr[1].imshow(G, cmap=\"Greens\")\n",
    "axarr[2].imshow(B, cmap=\"Blues\")\n",
    "plt.show()"
   ]
  },
  {
   "cell_type": "markdown",
   "metadata": {},
   "source": [
    "We can also obtain a grayscale image using the `np.mean` function, by taking the mean around the last coordinate.\n"
   ]
  },
  {
   "cell_type": "code",
   "execution_count": null,
   "metadata": {},
   "outputs": [],
   "source": [
    "grayscale = np.mean(image1, axis=2)\n",
    "plt.imshow(grayscale, cmap='gray');\n",
    "grayscale.shape"
   ]
  },
  {
   "cell_type": "markdown",
   "metadata": {},
   "source": [
    "## Modifying the image\n",
    "\n",
    "Finally, we can use array notation to change the image.\n",
    "\n",
    "For example, let's create a copy of the image and draw a line on it."
   ]
  },
  {
   "cell_type": "code",
   "execution_count": null,
   "metadata": {},
   "outputs": [],
   "source": [
    "image1_copy = image1.copy()\n",
    "\n",
    "image1_copy[128:140, 400:500, 0] = 255\n",
    "\n",
    "plt.imshow(image1_copy);"
   ]
  },
  {
   "cell_type": "markdown",
   "metadata": {},
   "source": [
    "Note that when we used `image1_copy[128:140, 400:500, 0] = 255` we set the first color channel of a bunch of cells in the array to 255.\n",
    "\n",
    "We specified those with first (vertical) coordinate 128 to 140 and with second (horizontal) coordinate 400 to 500. Then, the 0 means that we set the first component of the depth: the red color channel."
   ]
  },
  {
   "cell_type": "markdown",
   "metadata": {},
   "source": [
    "Another example: we can make a yellow box as follows.\n"
   ]
  },
  {
   "cell_type": "code",
   "execution_count": null,
   "metadata": {},
   "outputs": [],
   "source": [
    "image1_copy[300:400, 200:300, :] = (255,255,0)\n",
    "plt.imshow(image1_copy);"
   ]
  },
  {
   "cell_type": "markdown",
   "metadata": {},
   "source": [
    "In this case, we selected with `[300:400, 200:300, :]` all RGB components of those pixels (`:`) and we set them to yellow `(255,255,0)`."
   ]
  },
  {
   "cell_type": "markdown",
   "metadata": {},
   "source": [
    "## Activity\n",
    "\n",
    "- Make another copy of the image (or load your own image).\n",
    "- Draw a blue rectangle.\n",
    "- Copy the upper right corner of the image and paste it to the lower-left corner."
   ]
  },
  {
   "cell_type": "code",
   "execution_count": null,
   "metadata": {},
   "outputs": [],
   "source": [
    "# TODO: Complete the activity here"
   ]
  },
  {
   "cell_type": "markdown",
   "metadata": {},
   "source": [
    "----\n",
    "\n",
    "Now go on to the [second notebook](../02-Image-Filtering/braitenberg02.ipynb).\n"
   ]
  }
 ],
 "metadata": {
  "celltoolbar": "Tags",
  "kernelspec": {
   "display_name": "Python 3.8.10 64-bit",
   "language": "python",
   "name": "python3"
  },
  "language_info": {
   "codemirror_mode": {
    "name": "ipython",
    "version": 3
   },
   "file_extension": ".py",
   "mimetype": "text/x-python",
   "name": "python",
   "nbconvert_exporter": "python",
   "pygments_lexer": "ipython3",
   "version": "3.8.10"
  },
  "vscode": {
   "interpreter": {
    "hash": "916dbcbb3f70747c44a77c7bcd40155683ae19c65e1c03b4aa3499c5328201f1"
   }
  }
 },
 "nbformat": 4,
 "nbformat_minor": 4
}
